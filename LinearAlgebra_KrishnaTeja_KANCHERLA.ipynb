{
 "cells": [
  {
   "cell_type": "markdown",
   "metadata": {},
   "source": [
    "#                                                        LINEAR ALGEBRA Assignment\n"
   ]
  },
  {
   "cell_type": "code",
   "execution_count": 39,
   "metadata": {},
   "outputs": [],
   "source": [
    "# -*- coding: utf-8 -*-\n",
    "\"\"\"\n",
    "Created on Fri Nov 15 02:17:49 2019\n",
    "\n",
    "@author: Krishna Teja KANCHERLA\n",
    "\n",
    "                                      **** LINEAR ALGEBRA ****\n",
    "\"\"\"\n",
    "import numpy as np\n",
    "import numpy.linalg as la\n",
    "import sympy as sym"
   ]
  },
  {
   "cell_type": "code",
   "execution_count": 25,
   "metadata": {},
   "outputs": [
    {
     "name": "stdout",
     "output_type": "stream",
     "text": [
      "Determinant of Matrix is :  -0.9999999999999993\n",
      "λ1, λ2, λ3 values are :  [-0.  0. -0.]\n",
      "3 Vectors(u, v, w) are Linearly Independent :  [[ 1  2  1]\n",
      " [ 1  4  4]\n",
      " [-2 -1  2]]  is Basis of E\n"
     ]
    }
   ],
   "source": [
    "#Excercise 1\n",
    "#****************************************************************************\n",
    "u=[1,2,1]\n",
    "v=[1,4,4]\n",
    "w=[-2,-1,2]\n",
    "\n",
    "B = np.array([u,v,w]) \n",
    "\n",
    "print (\"Determinant of Matrix is : \",la.det(B)) # aprrox -1 \n",
    "\n",
    "#Ques-1 - Show that B = (u, v, w) is a basis of E\n",
    "\n",
    "Z = np.array([0,0,0])\n",
    "sol = la.solve(B,Z)\n",
    "print(\"λ1, λ2, λ3 values are : \",sol)\n",
    "print(\"3 Vectors(u, v, w) are Linearly Independent : \",B, \" is Basis of E\")\n",
    "# Above solution says B is the basis  because the solution with all values=0 conveys \n",
    "# -> the columns are independent\n",
    "# -> Span is R3\n",
    "# Hence shown B = (u,v,w) is a basic of E "
   ]
  },
  {
   "cell_type": "code",
   "execution_count": 26,
   "metadata": {},
   "outputs": [
    {
     "name": "stdout",
     "output_type": "stream",
     "text": [
      "Coordinates of 'a' in this Basis are :  [-11.   9.  -6.]\n"
     ]
    }
   ],
   "source": [
    "#Ques-2\n",
    "a = np.array([1,1,1])\n",
    "y = np.linalg.solve(B,a)#    Solve a linear matrix equation, or system of linear scalar equations.\n",
    "print(\"Coordinates of 'a' in this Basis are : \",y)"
   ]
  },
  {
   "cell_type": "code",
   "execution_count": 27,
   "metadata": {},
   "outputs": [
    {
     "name": "stdout",
     "output_type": "stream",
     "text": [
      "Coordinates of 'a' in basis B :  {λ_1: -12*x + 5*y - 4*z, λ_2: 10*x - 4*y + 3*z, λ_3: -7*x + 3*y - 2*z}\n"
     ]
    }
   ],
   "source": [
    "#Question3\n",
    "sym.init_printing()\n",
    "λ_1,λ_2,λ_3 = sym.symbols('λ_1,λ_2,λ_3')#    Transform strings into instances of :class:`Symbol` class.\n",
    "\n",
    "x,y,z = sym.symbols('x,y,z') #Arbitary Vector\n",
    "\n",
    "f = sym.Eq(λ_1 + 2*λ_2 + λ_3 , x)\n",
    "g = sym.Eq(λ_1 + 4*λ_2 + 4*λ_3 , y)\n",
    "h = sym.Eq(-2*λ_1 - λ_2 + 2*λ_3 , z)\n",
    "\n",
    "a_B = sym.solve([f,g,h],(λ_1,λ_2,λ_3))    #Algebraically solves equations and systems of equations.\n",
    "\n",
    "print(\"Coordinates of 'a' in basis B : \", a_B)\n"
   ]
  },
  {
   "cell_type": "code",
   "execution_count": 28,
   "metadata": {},
   "outputs": [],
   "source": [
    "#Excercise 2\n",
    "#****************************************************************************\n",
    "from scipy.linalg import qr\n",
    "from sympy import Matrix"
   ]
  },
  {
   "cell_type": "code",
   "execution_count": 29,
   "metadata": {},
   "outputs": [],
   "source": [
    "def qr_ker(A, tol=None):\n",
    "    Q, R, P = qr(A.T, mode='full', pivoting=True)\n",
    "    tol = np.finfo(R.dtype).eps if tol is None else tol\n",
    "    rnk = min(A.shape) - np.abs(np.diag(R))[::-1].searchsorted(tol)\n",
    "    return Q[:, rnk:].conj()\n",
    "\n",
    "A = np.matrix([[1,-2,1], [2,5,-3], [4,1,-1]])\n",
    "ker_A = qr_ker(A)"
   ]
  },
  {
   "cell_type": "code",
   "execution_count": 30,
   "metadata": {},
   "outputs": [
    {
     "name": "stdout",
     "output_type": "stream",
     "text": [
      " Basis of Ker(A) : [[0.09667365]\n",
      " [0.48336824]\n",
      " [0.87006284]]\n"
     ]
    }
   ],
   "source": [
    "#Ques-1\n",
    "print(\" Basis of Ker(A) :\",ker_A)"
   ]
  },
  {
   "cell_type": "code",
   "execution_count": 31,
   "metadata": {},
   "outputs": [
    {
     "name": "stdout",
     "output_type": "stream",
     "text": [
      "dim(E)) is : 2\n",
      "dim(ker(A) is : 1\n"
     ]
    }
   ],
   "source": [
    "dim_E = la.matrix_rank(A)\n",
    "print(\"dim(E)) is :\",dim_E)\n",
    "dim_ker_A = la.matrix_rank(ker_A)\n",
    "print(\"dim(ker(A) is :\",dim_ker_A)"
   ]
  },
  {
   "cell_type": "code",
   "execution_count": 32,
   "metadata": {},
   "outputs": [
    {
     "name": "stdout",
     "output_type": "stream",
     "text": [
      "dim(Im(A) is : 1\n"
     ]
    }
   ],
   "source": [
    "#Ques-2\n",
    "dim_Im_A = dim_E - dim_ker_A\n",
    "print(\"dim(Im(A) is :\",dim_Im_A)"
   ]
  },
  {
   "cell_type": "code",
   "execution_count": 33,
   "metadata": {},
   "outputs": [
    {
     "name": "stdout",
     "output_type": "stream",
     "text": [
      "Basis of Ker(A)  are :  [Matrix([\n",
      "[1/9],\n",
      "[5/9],\n",
      "[  1]])]\n",
      "Basis of Im(A) are :  [Matrix([\n",
      "[1],\n",
      "[2],\n",
      "[4]]), Matrix([\n",
      "[-2],\n",
      "[ 5],\n",
      "[ 1]])]\n"
     ]
    }
   ],
   "source": [
    "#Ques-3 \n",
    "#Find Basis of Ker(A) and Im(A)\n",
    "A = Matrix(A)\n",
    "print(\"Basis of Ker(A)  are : \",A.nullspace()) #default way\n",
    "print(\"Basis of Im(A) are : \",A.columnspace())"
   ]
  },
  {
   "cell_type": "code",
   "execution_count": 34,
   "metadata": {},
   "outputs": [
    {
     "name": "stdout",
     "output_type": "stream",
     "text": [
      "A is Not Bijective\n"
     ]
    }
   ],
   "source": [
    "#Ques-4 -- Is A Bijective???\n",
    "def isbijectiv(n,t):\n",
    "    l=len;\n",
    "    d,c=zip(*set(t));\n",
    "    x=l(set(c));\n",
    "    return(x+l(set(d))==l(c)*2)+(x==n)*2\n",
    "\n",
    "isb = True\n",
    "isb = (isbijectiv(2, [(1,-2,1),(2.5,-3),(4,1,-1)])==3)\n",
    "\n",
    "if isb == True:# => to check bijective or not\n",
    "    print(\"A is Bjective\")\n",
    "else:\n",
    "    print(\"A is Not Bijective\")"
   ]
  },
  {
   "cell_type": "code",
   "execution_count": 35,
   "metadata": {},
   "outputs": [
    {
     "data": {
      "text/html": [
       "<div>\n",
       "<style scoped>\n",
       "    .dataframe tbody tr th:only-of-type {\n",
       "        vertical-align: middle;\n",
       "    }\n",
       "\n",
       "    .dataframe tbody tr th {\n",
       "        vertical-align: top;\n",
       "    }\n",
       "\n",
       "    .dataframe thead th {\n",
       "        text-align: right;\n",
       "    }\n",
       "</style>\n",
       "<table border=\"1\" class=\"dataframe\">\n",
       "  <thead>\n",
       "    <tr style=\"text-align: right;\">\n",
       "      <th></th>\n",
       "      <th>Driver ID</th>\n",
       "      <th>A (g/l)</th>\n",
       "      <th>S (km/h)</th>\n",
       "      <th>D (m)</th>\n",
       "    </tr>\n",
       "  </thead>\n",
       "  <tbody>\n",
       "    <tr>\n",
       "      <th>0</th>\n",
       "      <td>1</td>\n",
       "      <td>0.10</td>\n",
       "      <td>101</td>\n",
       "      <td>79</td>\n",
       "    </tr>\n",
       "    <tr>\n",
       "      <th>1</th>\n",
       "      <td>2</td>\n",
       "      <td>0.07</td>\n",
       "      <td>90</td>\n",
       "      <td>65</td>\n",
       "    </tr>\n",
       "    <tr>\n",
       "      <th>2</th>\n",
       "      <td>3</td>\n",
       "      <td>0.61</td>\n",
       "      <td>94</td>\n",
       "      <td>97</td>\n",
       "    </tr>\n",
       "  </tbody>\n",
       "</table>\n",
       "</div>"
      ],
      "text/plain": [
       "   Driver ID  A (g/l)  S (km/h)  D (m)\n",
       "0          1     0.10       101     79\n",
       "1          2     0.07        90     65\n",
       "2          3     0.61        94     97"
      ]
     },
     "execution_count": 35,
     "metadata": {},
     "output_type": "execute_result"
    }
   ],
   "source": [
    "#Excercise 3\n",
    "#****************************************************************************\n",
    "\n",
    "import pandas as pd\n",
    "\n",
    "f = pd.read_excel('C:/Users/Krishna/Downloads/LinearAlgebra_Data.xlsx',headers=0) #from file Location, it reads the file\n",
    "M = np.array(f)\n",
    "a = M[:,1]\n",
    "s = M[:,2]\n",
    "d = M[:,3]\n",
    "\n",
    "f.head(3)"
   ]
  },
  {
   "cell_type": "code",
   "execution_count": 36,
   "metadata": {},
   "outputs": [
    {
     "data": {
      "text/plain": [
       "array([[4.29250e+04, 3.71310e+02, 1.13636e+05, 9.03920e+04],\n",
       "       [3.71310e+02, 5.93610e+00, 1.29540e+03, 1.12351e+03],\n",
       "       [1.13636e+05, 1.29540e+03, 4.03000e+05, 3.26853e+05],\n",
       "       [9.03920e+04, 1.12351e+03, 3.26853e+05, 2.72180e+05]])"
      ]
     },
     "execution_count": 36,
     "metadata": {},
     "output_type": "execute_result"
    }
   ],
   "source": [
    "D = np.dot(M.T,M)\n",
    "D"
   ]
  },
  {
   "cell_type": "code",
   "execution_count": 37,
   "metadata": {
    "scrolled": false
   },
   "outputs": [
    {
     "name": "stdout",
     "output_type": "stream",
     "text": [
      "λo Value : 72.08\n",
      "λ1 Value : 189.26736409427065\n",
      "λ2 Value : 0.8110496277915633\n"
     ]
    }
   ],
   "source": [
    "#Ques-2.b\n",
    "#Calculating lambdas - Determining Orthogonal projections of d onto F\n",
    "λo = np.dot(d,np.ones(50))/np.dot(np.ones(50),np.ones(50))#np.ones -     Return a new array of given shape and type, filled with ones.\n",
    "λ1 = np.dot(d,a)/np.dot(a,a)\n",
    "λ2 = np.dot(d,s)/np.dot(s,s)\n",
    "print(\"λo Value :\",λo)\n",
    "print(\"λ1 Value :\",λ1)\n",
    "print(\"λ2 Value :\",λ2)"
   ]
  },
  {
   "cell_type": "code",
   "execution_count": 44,
   "metadata": {},
   "outputs": [
    {
     "name": "stdout",
     "output_type": "stream",
     "text": [
      "Mean Squared Error :  145.52171822291734\n"
     ]
    }
   ],
   "source": [
    "#Ques-2.c\n",
    "\n",
    "#Calculating Mean Square Error(MSE)\n",
    "mse = 0\n",
    "for i in range(0,50):\n",
    "    mse = (d[i] - λo - λ1*a[i] - λ2*s[i])**2\n",
    "mse = mse/50\n",
    "\n",
    "print(\"Mean Squared Error : \",mse)"
   ]
  },
  {
   "cell_type": "code",
   "execution_count": null,
   "metadata": {},
   "outputs": [],
   "source": []
  }
 ],
 "metadata": {
  "kernelspec": {
   "display_name": "Python 3",
   "language": "python",
   "name": "python3"
  },
  "language_info": {
   "codemirror_mode": {
    "name": "ipython",
    "version": 3
   },
   "file_extension": ".py",
   "mimetype": "text/x-python",
   "name": "python",
   "nbconvert_exporter": "python",
   "pygments_lexer": "ipython3",
   "version": "3.7.3"
  }
 },
 "nbformat": 4,
 "nbformat_minor": 2
}
